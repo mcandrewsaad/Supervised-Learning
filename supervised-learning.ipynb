{
 "cells": [
  {
   "cell_type": "markdown",
   "metadata": {},
   "source": [
    "## M6 - W1 Assignment: Churn Problem Part 1\n",
    "\n",
    "Churn is one of the most pressing issues in different industries. The idea is that we start understanding what a pipeline is and how we can use it to make our code more robust and less bug-prone. We will be using the following data set: https://www.kaggle.com/blastchar/telco-customer-churn.\n",
    "\n",
    "We will explore the dataset a bit using most of what we learnt until now and start preparing everything for implementing and testing our models.\n",
    "\n",
    "#### Questions we will answer\n",
    "\n",
    "1) Have a quick overview of the features and implement a “cleaning process”. Make sure this part of the code is well organised, if possible make this an object-oriented exercise.\n",
    "\n",
    "2) Explain the process that needs to happen for each feature before you train your model. Also, think about how future observations might be different from the ones you have!\n",
    "\n",
    "3) Explain in your own words what is the importance of designing and implementing a pipeline? \n",
    "\n",
    "4) Choose one metric to evaluate the different models you will train and explain why you are choosing that instead of other traditional ones."
   ]
  },
  {
   "cell_type": "markdown",
   "metadata": {},
   "source": [
    "### Importing libraries"
   ]
  },
  {
   "cell_type": "code",
   "execution_count": 1,
   "metadata": {},
   "outputs": [],
   "source": [
    "#importing the libraries\n",
    "import pandas as pd\n",
    "import numpy as np\n",
    "from sklearn.neighbors import KNeighborsClassifier\n",
    "from sklearn.linear_model import LogisticRegression\n",
    "from sklearn import tree\n",
    "from sklearn.model_selection import train_test_split, RandomizedSearchCV\n",
    "from sklearn.ensemble import RandomForestClassifier, RandomForestRegressor\n",
    "from sklearn.preprocessing import StandardScaler\n",
    "from sklearn.pipeline import Pipeline\n",
    "import matplotlib.pyplot as plt\n",
    "from sklearn import metrics\n",
    "import seaborn as sns\n",
    "%matplotlib inline\n",
    "import warnings\n",
    "warnings.filterwarnings(action='ignore') # Repeated convergence warnings on Logistic Regression"
   ]
  },
  {
   "cell_type": "code",
   "execution_count": 2,
   "metadata": {},
   "outputs": [
    {
     "name": "stdout",
     "output_type": "stream",
     "text": [
      "<class 'pandas.core.frame.DataFrame'>\n",
      "RangeIndex: 7043 entries, 0 to 7042\n",
      "Data columns (total 21 columns):\n",
      "customerid          7043 non-null object\n",
      "gender              7043 non-null object\n",
      "seniorcitizen       7043 non-null int64\n",
      "partner             7043 non-null object\n",
      "dependents          7043 non-null object\n",
      "tenure              7043 non-null int64\n",
      "phoneservice        7043 non-null object\n",
      "multiplelines       7043 non-null object\n",
      "internetservice     7043 non-null object\n",
      "onlinesecurity      7043 non-null object\n",
      "onlinebackup        7043 non-null object\n",
      "deviceprotection    7043 non-null object\n",
      "techsupport         7043 non-null object\n",
      "streamingtv         7043 non-null object\n",
      "streamingmovies     7043 non-null object\n",
      "contract            7043 non-null object\n",
      "paperlessbilling    7043 non-null object\n",
      "paymentmethod       7043 non-null object\n",
      "monthlycharges      7043 non-null float64\n",
      "totalcharges        7043 non-null object\n",
      "churn               7043 non-null object\n",
      "dtypes: float64(1), int64(2), object(18)\n",
      "memory usage: 1.1+ MB\n",
      "None\n",
      "   customerid  gender  seniorcitizen partner dependents  tenure phoneservice  \\\n",
      "0  7590-VHVEG  Female              0     Yes         No       1           No   \n",
      "1  5575-GNVDE    Male              0      No         No      34          Yes   \n",
      "2  3668-QPYBK    Male              0      No         No       2          Yes   \n",
      "3  7795-CFOCW    Male              0      No         No      45           No   \n",
      "4  9237-HQITU  Female              0      No         No       2          Yes   \n",
      "\n",
      "      multiplelines internetservice onlinesecurity  ... deviceprotection  \\\n",
      "0  No phone service             DSL             No  ...               No   \n",
      "1                No             DSL            Yes  ...              Yes   \n",
      "2                No             DSL            Yes  ...               No   \n",
      "3  No phone service             DSL            Yes  ...              Yes   \n",
      "4                No     Fiber optic             No  ...               No   \n",
      "\n",
      "  techsupport streamingtv streamingmovies        contract paperlessbilling  \\\n",
      "0          No          No              No  Month-to-month              Yes   \n",
      "1          No          No              No        One year               No   \n",
      "2          No          No              No  Month-to-month              Yes   \n",
      "3         Yes          No              No        One year               No   \n",
      "4          No          No              No  Month-to-month              Yes   \n",
      "\n",
      "               paymentmethod monthlycharges  totalcharges churn  \n",
      "0           Electronic check          29.85         29.85    No  \n",
      "1               Mailed check          56.95        1889.5    No  \n",
      "2               Mailed check          53.85        108.15   Yes  \n",
      "3  Bank transfer (automatic)          42.30       1840.75    No  \n",
      "4           Electronic check          70.70        151.65   Yes  \n",
      "\n",
      "[5 rows x 21 columns]\n",
      "Shape:  (7043, 21)\n",
      "       seniorcitizen       tenure  monthlycharges\n",
      "count    7043.000000  7043.000000     7043.000000\n",
      "mean        0.162147    32.371149       64.761692\n",
      "std         0.368612    24.559481       30.090047\n",
      "min         0.000000     0.000000       18.250000\n",
      "25%         0.000000     9.000000       35.500000\n",
      "50%         0.000000    29.000000       70.350000\n",
      "75%         0.000000    55.000000       89.850000\n",
      "max         1.000000    72.000000      118.750000\n"
     ]
    }
   ],
   "source": [
    "#Import data\n",
    "data = pd.read_csv('WA_Fn-UseC_-Telco-Customer-Churn.csv')\n",
    "#lower col names\n",
    "data.columns = list(map(lambda column: column.lower(), data.columns))\n",
    "\n",
    "#EDA\n",
    "print(data.info())\n",
    "print(data.head())\n",
    "print('Shape: ', data.shape)\n",
    "print(data.describe())"
   ]
  },
  {
   "cell_type": "markdown",
   "metadata": {},
   "source": [
    "We have 7043 observations with 21 columns and no null values. Some values (`totalcharges`) need to be converted to a numerical value. There are categorical columns which will need to be converted to dummy values for the sake of using sklearn, eg. `gender`"
   ]
  },
  {
   "cell_type": "markdown",
   "metadata": {},
   "source": [
    "### Data cleaning and transformation"
   ]
  },
  {
   "cell_type": "markdown",
   "metadata": {},
   "source": [
    "##### Transform\n",
    "\n",
    "We have cast columns to the categorical data type and filled in missing values as well as casting to numerical for the `totalcharges` column. Categorical data has been transformed to dummy variables to work with `sklearn`."
   ]
  },
  {
   "cell_type": "code",
   "execution_count": 3,
   "metadata": {},
   "outputs": [],
   "source": [
    "def transform(dataframe):\n",
    "    df = dataframe.copy()\n",
    "    df['seniorcitizen'] = df['seniorcitizen'].astype('category')\n",
    "    #transform objects to ints total charge...\n",
    "    df.totalcharges = df.totalcharges.str.replace(' ','')\n",
    "    df.totalcharges = pd.to_numeric(df['totalcharges'])\n",
    "    mean_totalcharges = np.mean(df['totalcharges'])\n",
    "    df.totalcharges.fillna(mean_totalcharges, inplace=True)\n",
    "    #get dummies\n",
    "    df = pd.get_dummies(df.iloc[:,1:],drop_first=True)\n",
    "    return df\n",
    "\n",
    "data2 = transform(data)"
   ]
  },
  {
   "cell_type": "markdown",
   "metadata": {},
   "source": [
    "### Heatmap"
   ]
  },
  {
   "cell_type": "code",
   "execution_count": 4,
   "metadata": {},
   "outputs": [
    {
     "data": {
      "image/png": "[encoded data removed]",
      "text/plain": [
       "<Figure size 864x864 with 2 Axes>"
      ]
     },
     "metadata": {
      "needs_background": "light"
     },
     "output_type": "display_data"
    }
   ],
   "source": [
    "subset = data2.loc[:,['tenure', 'monthlycharges', 'totalcharges', \\\n",
    "                     'internetservice_Fiber optic', 'paymentmethod_Electronic check', 'churn_Yes']]\n",
    "correlations = subset.corr()\n",
    "_ = plt.figure(figsize=(12,12))\n",
    "_ = sns.heatmap(correlations, annot=True, cmap='RdBu_r')\n",
    "_ = plt.title('Correlation Heatmap', weight='bold', fontsize=12)\n",
    "plt.show()"
   ]
  },
  {
   "cell_type": "markdown",
   "metadata": {},
   "source": [
    "Churn is positively correlated to `paymentmethod_Electronic check`, `internetservice_Fiber optic` and `monthlycharges`. This means an increase in any of theses features will have an influence on customer churn. This means for those paying by electronic check or with fiber optic we expect to see more churn, as well as for those with higher monthly charges.\n",
    "\n",
    "Negative correlations are observed between customer churn and the features `totalcharges` and `tenure` meaning the longer they've stayed and the more they've paid over time, the less likely they are to leave. We would also expect monthly charges and tenure to be strongly positively correlated, as the longer they have been with the company, the more they would have paid."
   ]
  },
  {
   "cell_type": "code",
   "execution_count": 5,
   "metadata": {},
   "outputs": [],
   "source": [
    "#function to split data into training and test data\n",
    "def train_test(dataframe):\n",
    "    df = dataframe.copy()\n",
    "    y = df['churn_Yes']\n",
    "    X = df.drop('churn_Yes', axis=1)\n",
    "    X_train, X_test, y_train, y_test = train_test_split(X, y, test_size=0.33, random_state=42)\n",
    "    return X_train, X_test, y_train, y_test\n",
    "\n",
    "#Function to run pipeline and give output for particular classifier    \n",
    "def pipe(dataframe, steps, params):\n",
    "    df = dataframe.copy()\n",
    "    X_train, X_test, y_train, y_test = train_test(df)\n",
    "    pipe = Pipeline(steps)\n",
    "    grid = RandomizedSearchCV(pipe, params, cv=5) #Very long computations when using GridSearch\n",
    "    grid.fit(X_train, y_train)\n",
    "    y_pred = grid.predict(X_test)\n",
    "    best = grid.best_params_\n",
    "    confusion = metrics.confusion_matrix(y_test, y_pred)\n",
    "    clf = metrics.classification_report(y_test, y_pred)\n",
    "    print('Confusion matrix for', steps[1][1], ': \\n', confusion, '\\n')\n",
    "    print('Classification report for', steps[1][1], ': \\n', clf, '\\n')\n",
    "    print('Best parameters for', steps[1][1], ': \\n', best, '\\n')"
   ]
  },
  {
   "cell_type": "markdown",
   "metadata": {},
   "source": [
    "### Pipeline\n",
    "\n",
    "Pipeline helps to make the workflow much easier to read and understand, and ensures the order of steps. This makes the work easier to reproduce.\n",
    "\n",
    "Here we are using the pipeline to standardise the features and then apply the chosen classifier.\n",
    "\n",
    "#### KNeighbors\n",
    "\n",
    "Classification is computed from a simple majority vote of the nearest neighbors of each point: a query point is assigned the data class which has the most representatives within the nearest neighbors of the point.\n",
    "\n",
    "#### LogisticRegression\n",
    "\n",
    "Logistic Regression is used to predict the probability of a categorical dependent variable. In logistic regression, the dependent variable is a binary variable that contains data coded as 1 (churn = yes in our case) or 0 (churn = no in our case)."
   ]
  },
  {
   "cell_type": "code",
   "execution_count": 6,
   "metadata": {
    "scrolled": true
   },
   "outputs": [
    {
     "name": "stdout",
     "output_type": "stream",
     "text": [
      "Confusion matrix for KNeighborsClassifier() : \n",
      " [[1536  161]\n",
      " [ 328  300]] \n",
      "\n",
      "Classification report for KNeighborsClassifier() : \n",
      "               precision    recall  f1-score   support\n",
      "\n",
      "           0       0.82      0.91      0.86      1697\n",
      "           1       0.65      0.48      0.55       628\n",
      "\n",
      "    accuracy                           0.79      2325\n",
      "   macro avg       0.74      0.69      0.71      2325\n",
      "weighted avg       0.78      0.79      0.78      2325\n",
      " \n",
      "\n",
      "Best parameters for KNeighborsClassifier() : \n",
      " {'classifier__n_neighbors': 10} \n",
      "\n"
     ]
    }
   ],
   "source": [
    "#Determine best hyperparameters and run a confusion matrix and accuracy score on KNeighbors\n",
    "\n",
    "steps = [('scaler', StandardScaler()), ('classifier', KNeighborsClassifier())]\n",
    "params = {'classifier__n_neighbors' : np.arange(1, 11, 1)}\n",
    "pipe(data2, steps, params)"
   ]
  },
  {
   "cell_type": "code",
   "execution_count": 7,
   "metadata": {},
   "outputs": [
    {
     "name": "stdout",
     "output_type": "stream",
     "text": [
      "Confusion matrix for LogisticRegression() : \n",
      " [[1528  169]\n",
      " [ 258  370]] \n",
      "\n",
      "Classification report for LogisticRegression() : \n",
      "               precision    recall  f1-score   support\n",
      "\n",
      "           0       0.86      0.90      0.88      1697\n",
      "           1       0.69      0.59      0.63       628\n",
      "\n",
      "    accuracy                           0.82      2325\n",
      "   macro avg       0.77      0.74      0.76      2325\n",
      "weighted avg       0.81      0.82      0.81      2325\n",
      " \n",
      "\n",
      "Best parameters for LogisticRegression() : \n",
      " {'classifier__solver': 'liblinear', 'classifier__penalty': 'l2', 'classifier__C': 5.163265306122449} \n",
      "\n"
     ]
    }
   ],
   "source": [
    "steps = [('scaler', StandardScaler()), ('classifier', LogisticRegression())]\n",
    "params = {'classifier__penalty' : ['l1', 'l2', 'elasticnet', 'none'],\n",
    "          'classifier__C' : np.linspace(1,7),\n",
    "          'classifier__solver' : ['newton-cg', 'lbfgs', 'liblinear', 'sag', 'saga']\n",
    "         }\n",
    "pipe(data2, steps, params)"
   ]
  },
  {
   "cell_type": "markdown",
   "metadata": {},
   "source": [
    "### Null accuracy\n",
    "\n",
    "This is he accuracy that can be achieved by always predicting the most frequent class."
   ]
  },
  {
   "cell_type": "code",
   "execution_count": 8,
   "metadata": {},
   "outputs": [
    {
     "name": "stdout",
     "output_type": "stream",
     "text": [
      "0    5174\n",
      "1    1869\n",
      "Name: churn_Yes, dtype: int64\n",
      "percentage of ones:  0.2653698707936959\n",
      "percentage of zeroes:  0.7346301292063041\n"
     ]
    }
   ],
   "source": [
    "y = data2['churn_Yes']\n",
    "# examine the class distribution of the testing set\n",
    "print(y.value_counts())\n",
    "# because y_test only contains ones and zeros, we can simply calculate the mean = percentage of ones\n",
    "print('percentage of ones: ', y.mean())\n",
    "# calculate the percentage of zeroes\n",
    "print('percentage of zeroes: ', 1 - y.mean())"
   ]
  },
  {
   "cell_type": "markdown",
   "metadata": {},
   "source": [
    "This means that a dumb model that always predicts 0 would be right 73% of the time.\n",
    "\n",
    "### Conclusion (week 1)\n",
    "\n",
    "Both models are above the null accuracy but using the confusion matrix and classification reprt we are able to determine that LogisticRegression is the more accurate model from the two we have chosen.\n",
    "\n",
    "We have chosen to use `precision` as it gives an indication of the classiifer not to label an instance positive that is actually negative. For each class it is defined as as the ratio of true positives to the sum of true and false positives, which can also be seen by referring to the confusion matrix."
   ]
  },
  {
   "cell_type": "markdown",
   "metadata": {},
   "source": [
    "### Week 2 \n",
    "\n",
    "We will include the Logsitic Regression in this week's assignment as it came out with a good precision score above of 0.81.\n",
    "\n",
    "We will be using `RandomForestClassifier` and `DecisionTreeClassifier` as looking at churn it is a classification problem - yes or no.\n",
    "\n",
    "#### Random Forest Classifier\n",
    "\n",
    "Random forest is able to handle both binary and continuous data which we have in our data. Also at each split of the tree, the model considers only a small subset of features rather than all of the features. That is a subset of m features (m=square root of total features) are selected at random. This is important so that variance can be averaged away. If there were a few strong predictors they will consistently be chosen at the top level of the trees, so we will have very similar structured trees. This will give us a low bias and moderate variance model.\n",
    "\n",
    "#### Decision Tree Classifier\n",
    "\n",
    "Decision Tree Classifier is easy to understand and interpret. It is one of the best approaches to identify most significant variables and the relationships between the variables. There is no need for data preprocessing, because decision trees are not influenced by outliers. The most important feature is that they can handle continuous numerical variables as well as categorical variables which we have both of in our data."
   ]
  },
  {
   "cell_type": "code",
   "execution_count": 9,
   "metadata": {},
   "outputs": [
    {
     "name": "stdout",
     "output_type": "stream",
     "text": [
      "Confusion matrix for RandomForestClassifier() : \n",
      " [[1551  146]\n",
      " [ 312  316]] \n",
      "\n",
      "Classification report for RandomForestClassifier() : \n",
      "               precision    recall  f1-score   support\n",
      "\n",
      "           0       0.83      0.91      0.87      1697\n",
      "           1       0.68      0.50      0.58       628\n",
      "\n",
      "    accuracy                           0.80      2325\n",
      "   macro avg       0.76      0.71      0.73      2325\n",
      "weighted avg       0.79      0.80      0.79      2325\n",
      " \n",
      "\n",
      "Best parameters for RandomForestClassifier() : \n",
      " {'classifier__n_estimators': 200, 'classifier__max_features': 0.5, 'classifier__max_depth': 6, 'classifier__bootstrap': False} \n",
      "\n"
     ]
    }
   ],
   "source": [
    "steps = [('scaler', StandardScaler()), ('classifier', RandomForestClassifier())]\n",
    "params = {\n",
    "    'classifier__n_estimators': [200,500],\n",
    "    'classifier__max_features': [.5,.7],\n",
    "    'classifier__bootstrap': [False, True],\n",
    "    'classifier__max_depth':[3,6]\n",
    "}\n",
    "pipe(data2, steps, params)"
   ]
  },
  {
   "cell_type": "code",
   "execution_count": 10,
   "metadata": {},
   "outputs": [
    {
     "name": "stdout",
     "output_type": "stream",
     "text": [
      "Confusion matrix for DecisionTreeClassifier() : \n",
      " [[1565  132]\n",
      " [ 327  301]] \n",
      "\n",
      "Classification report for DecisionTreeClassifier() : \n",
      "               precision    recall  f1-score   support\n",
      "\n",
      "           0       0.83      0.92      0.87      1697\n",
      "           1       0.70      0.48      0.57       628\n",
      "\n",
      "    accuracy                           0.80      2325\n",
      "   macro avg       0.76      0.70      0.72      2325\n",
      "weighted avg       0.79      0.80      0.79      2325\n",
      " \n",
      "\n",
      "Best parameters for DecisionTreeClassifier() : \n",
      " {'classifier__min_samples_leaf': 100, 'classifier__max_depth': 28} \n",
      "\n"
     ]
    }
   ],
   "source": [
    "steps = [('scaler', StandardScaler()), ('classifier', tree.DecisionTreeClassifier())]\n",
    "params =[{'classifier__max_depth':np.arange(1,30),\n",
    "             'classifier__min_samples_leaf':[1,2,4,5,10,20,30,40,80,100]}]\n",
    "\n",
    "pipe(data2, steps, params)"
   ]
  },
  {
   "cell_type": "markdown",
   "metadata": {},
   "source": [
    "### Conclusion (week 2)\n",
    "\n",
    "Both trees are above the null accuracy and we can see that the random forest is showing slightly very similar accuracy of about 0.79 - 0.80 for weighted `precision`.\n",
    "\n",
    "Logistic Regression is showing the best `precision` score though.\n",
    "\n",
    "We have set the `GridSearchCV` to run at 5 folds to minimise any overfitting so believe this has minimise the effect of any over-fitting from the trained model."
   ]
  }
 ],
 "metadata": {
  "kernelspec": {
   "display_name": "Python 3",
   "language": "python",
   "name": "python3"
  },
  "language_info": {
   "codemirror_mode": {
    "name": "ipython",
    "version": 3
   },
   "file_extension": ".py",
   "mimetype": "text/x-python",
   "name": "python",
   "nbconvert_exporter": "python",
   "pygments_lexer": "ipython3",
   "version": "3.7.3"
  }
 },
 "nbformat": 4,
 "nbformat_minor": 2
}
